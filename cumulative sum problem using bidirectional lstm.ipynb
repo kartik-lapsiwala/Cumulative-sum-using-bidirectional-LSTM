{
 "cells": [
  {
   "cell_type": "code",
   "execution_count": 56,
   "metadata": {},
   "outputs": [],
   "source": [
    "from numpy import array, cumsum, array_equal\n",
    "from random import random\n",
    "from tensorflow.keras.models import Sequential\n",
    "from tensorflow.keras.layers import LSTM, Dense, Bidirectional, TimeDistributed"
   ]
  },
  {
   "cell_type": "code",
   "execution_count": 24,
   "metadata": {},
   "outputs": [],
   "source": [
    "def generate_series(n_timesteps):\n",
    "    x=[random() for i in range(n_timesteps)]\n",
    "    threshold=n_timesteps/4.0\n",
    "    y=[0 if x<threshold else 1 for x in cumsum(x)]\n",
    "    return x, y\n",
    "\n",
    "def generate_multiple_series(n_sequencecs, n_timesteps):\n",
    "    seqX=[] \n",
    "    seqY=[]\n",
    "    for _ in range(n_sequencecs):\n",
    "        x, y=generate_series(n_timesteps)\n",
    "        seqX.append(x)\n",
    "        seqY.append(y)\n",
    "    seqX=array(seqX).reshape(n_sequencecs, n_timesteps, 1)\n",
    "    seqY=array(seqY).reshape(n_sequencecs, n_timesteps, 1)\n",
    "    return seqX, seqY"
   ]
  },
  {
   "cell_type": "code",
   "execution_count": 44,
   "metadata": {},
   "outputs": [
    {
     "name": "stdout",
     "output_type": "stream",
     "text": [
      "Model: \"sequential_11\"\n",
      "_________________________________________________________________\n",
      "Layer (type)                 Output Shape              Param #   \n",
      "=================================================================\n",
      "bidirectional_9 (Bidirection (None, 10, 200)           81600     \n",
      "_________________________________________________________________\n",
      "time_distributed_9 (TimeDist (None, 10, 1)             201       \n",
      "=================================================================\n",
      "Total params: 81,801\n",
      "Trainable params: 81,801\n",
      "Non-trainable params: 0\n",
      "_________________________________________________________________\n"
     ]
    }
   ],
   "source": [
    "n_timesteps=10\n",
    "\n",
    "model = Sequential()\n",
    "model.add(Bidirectional(LSTM(100, return_sequences=True), input_shape=(n_timesteps, 1)))\n",
    "model.add(TimeDistributed(Dense(1, activation='sigmoid')))\n",
    "model.compile(loss='binary_crossentropy', optimizer='adam', metrics=['acc'])\n",
    "model.summary()"
   ]
  },
  {
   "cell_type": "code",
   "execution_count": 46,
   "metadata": {},
   "outputs": [
    {
     "name": "stdout",
     "output_type": "stream",
     "text": [
      "Train on 50000 samples\n",
      "50000/50000 [==============================] - 31s 625us/sample - loss: 0.0229 - acc: 0.9919\n"
     ]
    },
    {
     "data": {
      "text/plain": [
       "<tensorflow.python.keras.callbacks.History at 0x64dc1a438>"
      ]
     },
     "execution_count": 46,
     "metadata": {},
     "output_type": "execute_result"
    }
   ],
   "source": [
    "x, y = generate_multiple_series(50000, n_timesteps)\n",
    "model.fit(x, y, epochs=1, batch_size=20)"
   ]
  },
  {
   "cell_type": "code",
   "execution_count": 50,
   "metadata": {},
   "outputs": [
    {
     "name": "stdout",
     "output_type": "stream",
     "text": [
      "Loss: 0.017260588171581426 and accuracy: 0.9953333139419556\n"
     ]
    }
   ],
   "source": [
    "x, y = generate_multiple_series(150, n_timesteps)\n",
    "loss, acc = model.evaluate(x, y, verbose=0)\n",
    "print(f'Loss: {loss} and accuracy: {acc}')"
   ]
  },
  {
   "cell_type": "code",
   "execution_count": 58,
   "metadata": {},
   "outputs": [
    {
     "name": "stdout",
     "output_type": "stream",
     "text": [
      "\n",
      "y:    [0 0 0 1 1 1 1 1 1 1]\n",
      "yhat: [0 0 0 1 1 1 1 1 1 1]\n",
      "correct: True\n",
      "\n",
      "y:    [0 0 0 0 1 1 1 1 1 1]\n",
      "yhat: [0 0 0 0 1 1 1 1 1 1]\n",
      "correct: True\n",
      "\n",
      "y:    [0 0 0 0 0 0 1 1 1 1]\n",
      "yhat: [0 0 0 0 0 0 1 1 1 1]\n",
      "correct: True\n",
      "\n",
      "y:    [0 0 0 0 1 1 1 1 1 1]\n",
      "yhat: [0 0 0 0 1 1 1 1 1 1]\n",
      "correct: True\n",
      "\n",
      "y:    [0 0 0 0 1 1 1 1 1 1]\n",
      "yhat: [0 0 0 0 1 1 1 1 1 1]\n",
      "correct: True\n",
      "\n",
      "y:    [0 0 0 0 1 1 1 1 1 1]\n",
      "yhat: [0 0 0 0 1 1 1 1 1 1]\n",
      "correct: True\n",
      "\n",
      "y:    [0 0 0 0 1 1 1 1 1 1]\n",
      "yhat: [0 0 0 0 1 1 1 1 1 1]\n",
      "correct: True\n",
      "\n",
      "y:    [0 0 0 0 1 1 1 1 1 1]\n",
      "yhat: [0 0 0 0 1 1 1 1 1 1]\n",
      "correct: True\n",
      "\n",
      "y:    [0 0 1 1 1 1 1 1 1 1]\n",
      "yhat: [0 0 1 1 1 1 1 1 1 1]\n",
      "correct: True\n",
      "\n",
      "y:    [0 0 0 0 1 1 1 1 1 1]\n",
      "yhat: [0 0 0 0 1 1 1 1 1 1]\n",
      "correct: True\n"
     ]
    }
   ],
   "source": [
    "for _ in range(10):\n",
    "    x, y = generate_multiple_series(1, n_timesteps)\n",
    "    yhat = model.predict_classes(x, verbose=0)\n",
    "    exp, pred = y.reshape(n_timesteps), yhat.reshape(n_timesteps)\n",
    "    print('\\ny:   ',exp)\n",
    "    print('yhat:',pred)\n",
    "    print(f'correct: {array_equal(exp, pred)}')"
   ]
  },
  {
   "cell_type": "code",
   "execution_count": null,
   "metadata": {},
   "outputs": [],
   "source": []
  }
 ],
 "metadata": {
  "kernelspec": {
   "display_name": "Python 3",
   "language": "python",
   "name": "python3"
  },
  "language_info": {
   "codemirror_mode": {
    "name": "ipython",
    "version": 3
   },
   "file_extension": ".py",
   "mimetype": "text/x-python",
   "name": "python",
   "nbconvert_exporter": "python",
   "pygments_lexer": "ipython3",
   "version": "3.7.3"
  }
 },
 "nbformat": 4,
 "nbformat_minor": 2
}
